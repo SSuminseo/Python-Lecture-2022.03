{
  "nbformat": 4,
  "nbformat_minor": 0,
  "metadata": {
    "colab": {
      "name": "Untitled1.ipynb",
      "provenance": [],
      "collapsed_sections": [],
      "toc_visible": true,
      "authorship_tag": "ABX9TyOYswBxDr4+dsOkxGtgZX01",
      "include_colab_link": true
    },
    "kernelspec": {
      "name": "python3",
      "display_name": "Python 3"
    },
    "language_info": {
      "name": "python"
    }
  },
  "cells": [
    {
      "cell_type": "markdown",
      "metadata": {
        "id": "view-in-github",
        "colab_type": "text"
      },
      "source": [
        "<a href=\"https://colab.research.google.com/github/SSuminseo/Python-Lecture-2022.03/blob/main/Untitled1.ipynb\" target=\"_parent\"><img src=\"https://colab.research.google.com/assets/colab-badge.svg\" alt=\"Open In Colab\"/></a>"
      ]
    },
    {
      "cell_type": "markdown",
      "source": [
        "## Unit 13. if 조건문"
      ],
      "metadata": {
        "id": "bcG0ezNlfFeW"
      }
    },
    {
      "cell_type": "markdown",
      "source": [
        "### 13.1 if 조건문"
      ],
      "metadata": {
        "id": "6Vk0FL8MfqEO"
      }
    },
    {
      "cell_type": "code",
      "execution_count": 1,
      "metadata": {
        "id": "FDMBlpnhc54q"
      },
      "outputs": [],
      "source": [
        "import random"
      ]
    },
    {
      "cell_type": "code",
      "source": [
        "x=random.randint(9,11)\n",
        "if x==10:\n",
        "    print('10입니다.')"
      ],
      "metadata": {
        "colab": {
          "base_uri": "https://localhost:8080/"
        },
        "id": "WZicnqqsgJOP",
        "outputId": "4666f09a-8067-404a-c43a-c4a3ab3b9d8a"
      },
      "execution_count": 2,
      "outputs": [
        {
          "output_type": "stream",
          "name": "stdout",
          "text": [
            "10입니다.\n"
          ]
        }
      ]
    },
    {
      "cell_type": "code",
      "source": [
        "if x==10:\n",
        "    pass#코드생략->TODO:~자기 할일 적어주기\n",
        "print(x)"
      ],
      "metadata": {
        "colab": {
          "base_uri": "https://localhost:8080/"
        },
        "id": "ro69qDx1gN__",
        "outputId": "b3b57a39-e1d6-42b7-9c81-99173f229b1e"
      },
      "execution_count": 3,
      "outputs": [
        {
          "output_type": "stream",
          "name": "stdout",
          "text": [
            "10\n"
          ]
        }
      ]
    },
    {
      "cell_type": "code",
      "source": [
        "if x:\n",
        "    print(x)"
      ],
      "metadata": {
        "colab": {
          "base_uri": "https://localhost:8080/"
        },
        "id": "b5iDxnxrgw5O",
        "outputId": "604962c8-4ffe-455e-967e-8b9423bb762d"
      },
      "execution_count": 4,
      "outputs": [
        {
          "output_type": "stream",
          "name": "stdout",
          "text": [
            "10\n"
          ]
        }
      ]
    },
    {
      "cell_type": "markdown",
      "source": [
        "### 13.2 if조건문과 들여쓰기"
      ],
      "metadata": {
        "id": "IrU9JJn9hYPG"
      }
    },
    {
      "cell_type": "code",
      "source": [
        "if x==10:\n",
        "    print('10입니다.')\n",
        "    print('들여쓰기한 이 부분은 조건이 참일 경우 실행됩니다.')\n",
        "print('들여쓰기가 끝나면 조건에 관계없이 실행됩니다.')"
      ],
      "metadata": {
        "colab": {
          "base_uri": "https://localhost:8080/"
        },
        "id": "ngdsjmABhdpf",
        "outputId": "0ad17119-f402-478a-8924-2e2b0ff4239d"
      },
      "execution_count": 8,
      "outputs": [
        {
          "output_type": "stream",
          "name": "stdout",
          "text": [
            "10입니다.\n",
            "들여쓰기한 이 부분은 조건이 참일 경우 실행됩니다.\n",
            "들여쓰기가 끝나면 조건에 관계없이 실행됩니다.\n"
          ]
        }
      ]
    },
    {
      "cell_type": "markdown",
      "source": [
        "### 13.3 중첩(Nested) 조건문"
      ],
      "metadata": {
        "id": "eL53LNULiwlV"
      }
    },
    {
      "cell_type": "code",
      "source": [
        "x=random.randint(1,20)\n",
        "if x>=10:\n",
        "    print('10이상입니다.')\n",
        "    if x>=15:\n",
        "        print('15이상입니다.')\n",
        "print(x)"
      ],
      "metadata": {
        "colab": {
          "base_uri": "https://localhost:8080/"
        },
        "id": "WxJj_zQXhBAW",
        "outputId": "b1ed54ea-27a1-4cb1-e9aa-44d9f1f22244"
      },
      "execution_count": 11,
      "outputs": [
        {
          "output_type": "stream",
          "name": "stdout",
          "text": [
            "2\n"
          ]
        }
      ]
    },
    {
      "cell_type": "code",
      "source": [
        "#10이상 정수, 3의  배수를 찾기\n",
        "x=random.randint(1,20)\n",
        "if x>=10:\n",
        "    print('10이상입니다.')\n",
        "    if x%3==0:\n",
        "        print('3의 배수입니다.')\n",
        "print(x)"
      ],
      "metadata": {
        "colab": {
          "base_uri": "https://localhost:8080/"
        },
        "id": "J1JE6_eJjTpQ",
        "outputId": "9e1557d2-d839-4d04-ff6f-7c2df3a1cc61"
      },
      "execution_count": 14,
      "outputs": [
        {
          "output_type": "stream",
          "name": "stdout",
          "text": [
            "10이상입니다.\n",
            "3의 배수입니다.\n",
            "15\n"
          ]
        }
      ]
    },
    {
      "cell_type": "code",
      "source": [
        ""
      ],
      "metadata": {
        "id": "mC3ESEYWjuzX"
      },
      "execution_count": null,
      "outputs": []
    }
  ]
}