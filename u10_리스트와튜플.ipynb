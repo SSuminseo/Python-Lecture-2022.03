{
  "nbformat": 4,
  "nbformat_minor": 0,
  "metadata": {
    "colab": {
      "name": "u10_리스트와튜플.ipynb",
      "provenance": [],
      "toc_visible": true,
      "authorship_tag": "ABX9TyOKxeCQf6s1BSnDER4xxALM",
      "include_colab_link": true
    },
    "kernelspec": {
      "name": "python3",
      "display_name": "Python 3"
    },
    "language_info": {
      "name": "python"
    }
  },
  "cells": [
    {
      "cell_type": "markdown",
      "metadata": {
        "id": "view-in-github",
        "colab_type": "text"
      },
      "source": [
        "<a href=\"https://colab.research.google.com/github/SSuminseo/Python-Lecture-2022.03/blob/main/u10_%EB%A6%AC%EC%8A%A4%ED%8A%B8%EC%99%80%ED%8A%9C%ED%94%8C.ipynb\" target=\"_parent\"><img src=\"https://colab.research.google.com/assets/colab-badge.svg\" alt=\"Open In Colab\"/></a>"
      ]
    },
    {
      "cell_type": "markdown",
      "source": [
        "# Unit 10. 리스트와 튜플"
      ],
      "metadata": {
        "id": "YQhQsBZzhmZt"
      }
    },
    {
      "cell_type": "code",
      "source": [
        "a=[38,21,53,62,19]\n",
        "a"
      ],
      "metadata": {
        "colab": {
          "base_uri": "https://localhost:8080/"
        },
        "id": "nOojkSgKhqFV",
        "outputId": "35522a7d-9142-4638-c916-8de243275e4c"
      },
      "execution_count": 1,
      "outputs": [
        {
          "output_type": "execute_result",
          "data": {
            "text/plain": [
              "[38, 21, 53, 62, 19]"
            ]
          },
          "metadata": {},
          "execution_count": 1
        }
      ]
    },
    {
      "cell_type": "code",
      "source": [
        "import numpy as np\n",
        "b=list(np.random.randint(10,70,10))\n",
        "b"
      ],
      "metadata": {
        "colab": {
          "base_uri": "https://localhost:8080/"
        },
        "id": "UUFS2uHEiTwu",
        "outputId": "db6b10b6-5a68-4622-c65a-9bf37695fdd3"
      },
      "execution_count": 5,
      "outputs": [
        {
          "output_type": "execute_result",
          "data": {
            "text/plain": [
              "[20, 41, 20, 20, 18, 13, 47, 48, 35, 57]"
            ]
          },
          "metadata": {},
          "execution_count": 5
        }
      ]
    },
    {
      "cell_type": "code",
      "source": [
        "# 리스트에는 여러 자료형을 사용할 수 있음\n",
        "person=['james', 27, 175.3,'남']\n",
        "person"
      ],
      "metadata": {
        "colab": {
          "base_uri": "https://localhost:8080/"
        },
        "id": "LQsYibtpimrt",
        "outputId": "6536e843-ff03-4061-c793-cb2d73c262cb"
      },
      "execution_count": 6,
      "outputs": [
        {
          "output_type": "execute_result",
          "data": {
            "text/plain": [
              "['james', 27, 175.3, '남']"
            ]
          },
          "metadata": {},
          "execution_count": 6
        }
      ]
    },
    {
      "cell_type": "code",
      "source": [
        "#위의 리스트는 아래와 같은 딕셔너리로 표현하는 것이 더 좋다\n",
        "{'name':'james','age':27, 'height':175.3, 'gender':'남'}"
      ],
      "metadata": {
        "colab": {
          "base_uri": "https://localhost:8080/"
        },
        "id": "7bda5z8NjkgF",
        "outputId": "af5f04d6-fad0-46d2-dbe7-468195efa062"
      },
      "execution_count": 8,
      "outputs": [
        {
          "output_type": "execute_result",
          "data": {
            "text/plain": [
              "{'age': 27, 'gender': '남', 'height': 175.3, 'name': 'james'}"
            ]
          },
          "metadata": {},
          "execution_count": 8
        }
      ]
    },
    {
      "cell_type": "code",
      "source": [
        "a=[]\n",
        "b=list()\n",
        "a,b=[],[]"
      ],
      "metadata": {
        "id": "7q9ZcnOHkCc-"
      },
      "execution_count": 9,
      "outputs": []
    },
    {
      "cell_type": "code",
      "source": [
        "import random\n",
        "a=[]\n",
        "for i in range(5):\n",
        "    a.append(random.randint(60,100))\n",
        "a"
      ],
      "metadata": {
        "colab": {
          "base_uri": "https://localhost:8080/"
        },
        "id": "VdZ7ebQhkt2U",
        "outputId": "5ff0f9c5-937a-46f4-e79f-eb3a7c0ed264"
      },
      "execution_count": 11,
      "outputs": [
        {
          "output_type": "execute_result",
          "data": {
            "text/plain": [
              "[97, 68, 94, 69, 87]"
            ]
          },
          "metadata": {},
          "execution_count": 11
        }
      ]
    },
    {
      "cell_type": "markdown",
      "source": [
        "-range 객체"
      ],
      "metadata": {
        "id": "XQSTF_O5lKQs"
      }
    },
    {
      "cell_type": "code",
      "source": [
        "#range parameter 1개: 횟수를 의미(0~n-1)\n",
        "list(range(5))"
      ],
      "metadata": {
        "colab": {
          "base_uri": "https://localhost:8080/"
        },
        "id": "IXnASMZck3BE",
        "outputId": "2d2a61e2-9e50-4bda-ce4d-0dbcb780b42e"
      },
      "execution_count": 13,
      "outputs": [
        {
          "output_type": "execute_result",
          "data": {
            "text/plain": [
              "[0, 1, 2, 3, 4]"
            ]
          },
          "metadata": {},
          "execution_count": 13
        }
      ]
    },
    {
      "cell_type": "code",
      "source": [
        "#range parameter 2개: 시작,끝을 의미(시작~끝-1)\n",
        "list(range(1,10))"
      ],
      "metadata": {
        "colab": {
          "base_uri": "https://localhost:8080/"
        },
        "id": "BaNr6-qllOHE",
        "outputId": "a3f08c74-d067-4b95-8724-a70604c7257e"
      },
      "execution_count": 15,
      "outputs": [
        {
          "output_type": "execute_result",
          "data": {
            "text/plain": [
              "[1, 2, 3, 4, 5, 6, 7, 8, 9]"
            ]
          },
          "metadata": {},
          "execution_count": 15
        }
      ]
    },
    {
      "cell_type": "code",
      "source": [
        "#range parameter 3개: 시작,끝, 증가폭 의미\n",
        "list(range(1,10,2))"
      ],
      "metadata": {
        "colab": {
          "base_uri": "https://localhost:8080/"
        },
        "id": "ybyfMr-XltJ8",
        "outputId": "d420c82b-d563-44e1-8f69-ceeac1d664c9"
      },
      "execution_count": 16,
      "outputs": [
        {
          "output_type": "execute_result",
          "data": {
            "text/plain": [
              "[1, 3, 5, 7, 9]"
            ]
          },
          "metadata": {},
          "execution_count": 16
        }
      ]
    },
    {
      "cell_type": "code",
      "source": [
        "list(range(10,0,-2))"
      ],
      "metadata": {
        "colab": {
          "base_uri": "https://localhost:8080/"
        },
        "id": "HSkQMc6ul-79",
        "outputId": "1ceec828-461d-4365-ea8b-ebf676477bfc"
      },
      "execution_count": 17,
      "outputs": [
        {
          "output_type": "execute_result",
          "data": {
            "text/plain": [
              "[10, 8, 6, 4, 2]"
            ]
          },
          "metadata": {},
          "execution_count": 17
        }
      ]
    },
    {
      "cell_type": "markdown",
      "source": [
        "### 10.2튜플(tuple)"
      ],
      "metadata": {
        "id": "aW9Zr3BRm7_0"
      }
    },
    {
      "cell_type": "code",
      "source": [
        "person"
      ],
      "metadata": {
        "colab": {
          "base_uri": "https://localhost:8080/"
        },
        "id": "LLXQeyxNmN0c",
        "outputId": "1c19c674-94e3-4463-d2a1-3bd1eaf69896"
      },
      "execution_count": 18,
      "outputs": [
        {
          "output_type": "execute_result",
          "data": {
            "text/plain": [
              "['james', 27, 175.3, '남']"
            ]
          },
          "metadata": {},
          "execution_count": 18
        }
      ]
    },
    {
      "cell_type": "code",
      "source": [
        "person=('james', 27, 175.3, '남')\n",
        "person"
      ],
      "metadata": {
        "colab": {
          "base_uri": "https://localhost:8080/"
        },
        "id": "HM8U3OL_nAj0",
        "outputId": "df7c80bc-64fb-4113-d9d6-a0a9dd1973b9"
      },
      "execution_count": 19,
      "outputs": [
        {
          "output_type": "execute_result",
          "data": {
            "text/plain": [
              "('james', 27, 175.3, '남')"
            ]
          },
          "metadata": {},
          "execution_count": 19
        }
      ]
    },
    {
      "cell_type": "code",
      "source": [
        "size=(3)\n",
        "type(size)"
      ],
      "metadata": {
        "colab": {
          "base_uri": "https://localhost:8080/"
        },
        "id": "OqspaRsOnGxN",
        "outputId": "75d79127-a315-4211-ceab-38074677cec7"
      },
      "execution_count": 20,
      "outputs": [
        {
          "output_type": "execute_result",
          "data": {
            "text/plain": [
              "int"
            ]
          },
          "metadata": {},
          "execution_count": 20
        }
      ]
    },
    {
      "cell_type": "code",
      "source": [
        "size=(3,)\n",
        "type(size)"
      ],
      "metadata": {
        "colab": {
          "base_uri": "https://localhost:8080/"
        },
        "id": "jhKsvavwn3EU",
        "outputId": "b2d429ed-ae39-47a3-9f30-31d92d01d7ab"
      },
      "execution_count": 21,
      "outputs": [
        {
          "output_type": "execute_result",
          "data": {
            "text/plain": [
              "tuple"
            ]
          },
          "metadata": {},
          "execution_count": 21
        }
      ]
    },
    {
      "cell_type": "code",
      "source": [
        "size=3,\n",
        "type(size)"
      ],
      "metadata": {
        "colab": {
          "base_uri": "https://localhost:8080/"
        },
        "id": "XLuC-xCHoBHL",
        "outputId": "65989b1e-ce8d-44ae-de7c-6f332a1ee090"
      },
      "execution_count": 22,
      "outputs": [
        {
          "output_type": "execute_result",
          "data": {
            "text/plain": [
              "tuple"
            ]
          },
          "metadata": {},
          "execution_count": 22
        }
      ]
    },
    {
      "cell_type": "markdown",
      "source": [
        "-tuple은 요소를 변경,추가,삭제할수없다."
      ],
      "metadata": {
        "id": "oxsoHypqoSg2"
      }
    },
    {
      "cell_type": "code",
      "source": [
        "t=()\n",
        "type(t)"
      ],
      "metadata": {
        "colab": {
          "base_uri": "https://localhost:8080/"
        },
        "id": "0uDmeacooHN7",
        "outputId": "14f2766c-95fd-4c09-b9c7-60835701135f"
      },
      "execution_count": 23,
      "outputs": [
        {
          "output_type": "execute_result",
          "data": {
            "text/plain": [
              "tuple"
            ]
          },
          "metadata": {},
          "execution_count": 23
        }
      ]
    },
    {
      "cell_type": "code",
      "source": [
        "t=tuple(range(5))\n",
        "t"
      ],
      "metadata": {
        "colab": {
          "base_uri": "https://localhost:8080/"
        },
        "id": "O2uhKhG6ohRk",
        "outputId": "2871f4cb-129f-4908-9786-43da4fdde905"
      },
      "execution_count": 24,
      "outputs": [
        {
          "output_type": "execute_result",
          "data": {
            "text/plain": [
              "(0, 1, 2, 3, 4)"
            ]
          },
          "metadata": {},
          "execution_count": 24
        }
      ]
    },
    {
      "cell_type": "markdown",
      "source": [
        "-리스트 <---->튜플"
      ],
      "metadata": {
        "id": "iSZhjeF0o2MD"
      }
    },
    {
      "cell_type": "code",
      "source": [
        "l=list(t)\n",
        "type(l)"
      ],
      "metadata": {
        "colab": {
          "base_uri": "https://localhost:8080/"
        },
        "id": "YXryiLmqoxCj",
        "outputId": "f87883c3-8656-481d-c40b-3da41d17a391"
      },
      "execution_count": 25,
      "outputs": [
        {
          "output_type": "execute_result",
          "data": {
            "text/plain": [
              "list"
            ]
          },
          "metadata": {},
          "execution_count": 25
        }
      ]
    },
    {
      "cell_type": "code",
      "source": [
        "type(tuple(l))"
      ],
      "metadata": {
        "colab": {
          "base_uri": "https://localhost:8080/"
        },
        "id": "hLJGok3Xo-ak",
        "outputId": "28caee99-2b4b-4cd8-8306-0f6e39aed56a"
      },
      "execution_count": 26,
      "outputs": [
        {
          "output_type": "execute_result",
          "data": {
            "text/plain": [
              "tuple"
            ]
          },
          "metadata": {},
          "execution_count": 26
        }
      ]
    },
    {
      "cell_type": "markdown",
      "source": [
        "-리스트에 문자열 넣기"
      ],
      "metadata": {
        "id": "7mtdDLxJpYDL"
      }
    },
    {
      "cell_type": "code",
      "source": [
        "list('안녕하세요')"
      ],
      "metadata": {
        "colab": {
          "base_uri": "https://localhost:8080/"
        },
        "id": "ZExlAC0mpFS0",
        "outputId": "232f28a2-5c16-423b-ed20-f6ec37805b5e"
      },
      "execution_count": 27,
      "outputs": [
        {
          "output_type": "execute_result",
          "data": {
            "text/plain": [
              "['안', '녕', '하', '세', '요']"
            ]
          },
          "metadata": {},
          "execution_count": 27
        }
      ]
    },
    {
      "cell_type": "code",
      "source": [
        "list('ABCD')"
      ],
      "metadata": {
        "colab": {
          "base_uri": "https://localhost:8080/"
        },
        "id": "q42FrYTOpftT",
        "outputId": "07d485eb-073b-4818-d35e-8beaf0b0513c"
      },
      "execution_count": 29,
      "outputs": [
        {
          "output_type": "execute_result",
          "data": {
            "text/plain": [
              "['A', 'B', 'C', 'D']"
            ]
          },
          "metadata": {},
          "execution_count": 29
        }
      ]
    },
    {
      "cell_type": "markdown",
      "source": [
        "-list tuple unpacking"
      ],
      "metadata": {
        "id": "bPETqFTap7GT"
      }
    },
    {
      "cell_type": "code",
      "source": [
        "a,b,c,d='a','b','c','d'\n",
        "a,b,c,d"
      ],
      "metadata": {
        "colab": {
          "base_uri": "https://localhost:8080/"
        },
        "id": "HrdmEIkgpo7d",
        "outputId": "60efc94e-f181-4e52-a4f6-a2c1f3c636b0"
      },
      "execution_count": 31,
      "outputs": [
        {
          "output_type": "execute_result",
          "data": {
            "text/plain": [
              "('a', 'b', 'c', 'd')"
            ]
          },
          "metadata": {},
          "execution_count": 31
        }
      ]
    },
    {
      "cell_type": "code",
      "source": [
        "a,b,c,d=list('abcd')\n",
        "a,b,c,d"
      ],
      "metadata": {
        "colab": {
          "base_uri": "https://localhost:8080/"
        },
        "id": "-hRLfFmnp6SM",
        "outputId": "f8b57729-0324-41a2-ab04-f2c04307fa54"
      },
      "execution_count": 32,
      "outputs": [
        {
          "output_type": "execute_result",
          "data": {
            "text/plain": [
              "('a', 'b', 'c', 'd')"
            ]
          },
          "metadata": {},
          "execution_count": 32
        }
      ]
    },
    {
      "cell_type": "code",
      "source": [
        "x,y,z=range(3)\n",
        "x,y,z"
      ],
      "metadata": {
        "colab": {
          "base_uri": "https://localhost:8080/"
        },
        "id": "hIYNsMxQqEyL",
        "outputId": "4ce865c2-ae6a-4a74-c83c-598d1303ca99"
      },
      "execution_count": 33,
      "outputs": [
        {
          "output_type": "execute_result",
          "data": {
            "text/plain": [
              "(0, 1, 2)"
            ]
          },
          "metadata": {},
          "execution_count": 33
        }
      ]
    },
    {
      "cell_type": "code",
      "source": [
        "x,y,z=input().split()\n",
        "x,y,z"
      ],
      "metadata": {
        "colab": {
          "base_uri": "https://localhost:8080/"
        },
        "id": "bnSbuGD1qPOb",
        "outputId": "7e75f429-6f30-41d1-a4c7-5ce11f9f5aff"
      },
      "execution_count": 34,
      "outputs": [
        {
          "name": "stdout",
          "output_type": "stream",
          "text": [
            "1 2 3\n"
          ]
        },
        {
          "output_type": "execute_result",
          "data": {
            "text/plain": [
              "('1', '2', '3')"
            ]
          },
          "metadata": {},
          "execution_count": 34
        }
      ]
    },
    {
      "cell_type": "code",
      "source": [
        "x,y,z=map(int,input().split())\n",
        "x,y,z"
      ],
      "metadata": {
        "colab": {
          "base_uri": "https://localhost:8080/"
        },
        "id": "PMEz0yJZqjAs",
        "outputId": "17840342-ffbb-42e9-9199-3ad791473e7b"
      },
      "execution_count": 36,
      "outputs": [
        {
          "name": "stdout",
          "output_type": "stream",
          "text": [
            "1 2 3\n"
          ]
        },
        {
          "output_type": "execute_result",
          "data": {
            "text/plain": [
              "(1, 2, 3)"
            ]
          },
          "metadata": {},
          "execution_count": 36
        }
      ]
    },
    {
      "cell_type": "code",
      "source": [
        "x,y,z=map(lambda x:int(x)*2+5,input().split())\n",
        "x,y,z"
      ],
      "metadata": {
        "colab": {
          "base_uri": "https://localhost:8080/"
        },
        "id": "i_96wLTRqrS8",
        "outputId": "d88e910f-ed9d-4fcb-9e1c-58ae02d0c66d"
      },
      "execution_count": 37,
      "outputs": [
        {
          "name": "stdout",
          "output_type": "stream",
          "text": [
            "1 2 3\n"
          ]
        },
        {
          "output_type": "execute_result",
          "data": {
            "text/plain": [
              "(int, int, int)"
            ]
          },
          "metadata": {},
          "execution_count": 37
        }
      ]
    },
    {
      "cell_type": "code",
      "source": [
        ""
      ],
      "metadata": {
        "id": "nrm0GKWfq6wL"
      },
      "execution_count": null,
      "outputs": []
    }
  ]
}